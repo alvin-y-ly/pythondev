{
 "cells": [
  {
   "cell_type": "markdown",
   "id": "93420baa",
   "metadata": {},
   "source": [
    "# 仕様\n",
    "- ゼロで割り算した場合に出る例外に対する例外処理を実装してください\n",
    "- キーボードから数値ではない文字列が入力された場合に出る例外に対しても、例外処理を実装してください\n",
    "- 入力内容に問題がなかった場合に、正しく割り算される処理は壊さないようにしてください。（プログラム修正によって、できていたことができなくなることを デグレード と言います。デグレードのないようにしてください）"
   ]
  },
  {
   "cell_type": "code",
   "execution_count": 8,
   "id": "c0194da1",
   "metadata": {},
   "outputs": [
    {
     "name": "stdout",
     "output_type": "stream",
     "text": [
      "8 ÷ 2 = 4.0\n",
      "処理を終了します\n"
     ]
    }
   ],
   "source": [
    "try:\n",
    "    a = int(input(\"割られる数を入力してください：\"))\n",
    "    b = int(input(\"割る数を入力してください：\"))\n",
    "except:\n",
    "    print(\"ERROR: Please enter an integer!\")\n",
    "else:\n",
    "    try:\n",
    "        c = a / b\n",
    "        print(f\"{a} ÷ {b} = {c}\")\n",
    "    except ZeroDivisionError:\n",
    "        print(\"ERROR: You cannot divide a number by ZERO!\")\n",
    "\n",
    "print(\"処理を終了します\")"
   ]
  }
 ],
 "metadata": {
  "kernelspec": {
   "display_name": ".venv",
   "language": "python",
   "name": "python3"
  },
  "language_info": {
   "codemirror_mode": {
    "name": "ipython",
    "version": 3
   },
   "file_extension": ".py",
   "mimetype": "text/x-python",
   "name": "python",
   "nbconvert_exporter": "python",
   "pygments_lexer": "ipython3",
   "version": "3.12.11"
  }
 },
 "nbformat": 4,
 "nbformat_minor": 5
}
