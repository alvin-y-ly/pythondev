{
 "cells": [
  {
   "cell_type": "markdown",
   "id": "c8d0515f",
   "metadata": {},
   "source": [
    "# 仕様\n",
    "- 無限ループを作成します\n",
    "- そのなかで「点数を入力してください：」と表示して、テストの点数（整数値）を入力します。なお、入力した点数はあとで使用しますので、変数に格納してください。さらに、入力した点数の件数 人数 をカウンタ変数を用意して数えてください\n",
    "- 平均点は「点数の合計値 / 人数」で求めます。点数の合計値 は、繰り返しのたびに入力した点数を合計値用の変数に加算して求めてください\n",
    "- -1 と入力されたら、そこで繰り返し処理を終了します\n",
    "- 最後に「○○人のテストの平均点は△△点です」と表示してください。平均点は小数第2位を四捨五入し、出力の際に小数第1位までを表示するようにします"
   ]
  },
  {
   "cell_type": "code",
   "execution_count": null,
   "id": "d7f74d82",
   "metadata": {},
   "outputs": [
    {
     "name": "stdout",
     "output_type": "stream",
     "text": [
      "10人のテストの平均点は73.4点です\n"
     ]
    }
   ],
   "source": [
    "total = cnt = 0\n",
    "while True:\n",
    "    score = int(input(\"点数を入力してください：\"))\n",
    "    if score == -1:\n",
    "        break\n",
    "    total += score\n",
    "    cnt += 1\n",
    "average = round(total / cnt, 2)\n",
    "print(f\"{cnt}人のテストの平均点は{average:.1f}点です\")"
   ]
  }
 ],
 "metadata": {
  "kernelspec": {
   "display_name": ".venv",
   "language": "python",
   "name": "python3"
  },
  "language_info": {
   "codemirror_mode": {
    "name": "ipython",
    "version": 3
   },
   "file_extension": ".py",
   "mimetype": "text/x-python",
   "name": "python",
   "nbconvert_exporter": "python",
   "pygments_lexer": "ipython3",
   "version": "3.12.11"
  }
 },
 "nbformat": 4,
 "nbformat_minor": 5
}
