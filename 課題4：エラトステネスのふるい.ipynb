{
 "cells": [
  {
   "cell_type": "markdown",
   "id": "869696c0",
   "metadata": {},
   "source": [
    "# 仕様\n",
    "- range と繰り返し処理を使って、1から100までの連続する整数値を画面に表示します\n",
    "  - ただし、素数でないものは表示しないでください。以下のルールについて調べることで、素数かどうかを判定できます：\n",
    "    - 1は素数ではない\n",
    "    - 2を除いた2の倍数は素数ではない\n",
    "    - 3を除いた3の倍数は素数ではない\n",
    "    - 5を除いた5の倍数は素数ではない\n",
    "    - 7を除いた7の倍数は素数ではない\n",
    "上記の素数かどうかの判定手順に沿って、エラトステネスのふるいの処理を実装しましょう。"
   ]
  },
  {
   "cell_type": "code",
   "execution_count": 4,
   "id": "03c244b6",
   "metadata": {},
   "outputs": [
    {
     "name": "stdout",
     "output_type": "stream",
     "text": [
      "2\n",
      "3\n",
      "5\n",
      "7\n",
      "11\n",
      "13\n",
      "17\n",
      "19\n",
      "23\n",
      "29\n",
      "31\n",
      "37\n",
      "41\n",
      "43\n",
      "47\n",
      "53\n",
      "59\n",
      "61\n",
      "67\n",
      "71\n",
      "73\n",
      "79\n",
      "83\n",
      "89\n",
      "97\n"
     ]
    }
   ],
   "source": [
    "arr = [True] * 101\n",
    "arr[0] = arr[1] = False\n",
    "for n in range(1, 101):\n",
    "    if arr[n]:\n",
    "        print(n)\n",
    "        for x in range(n * 2, 101, n):\n",
    "            arr[x] = False"
   ]
  }
 ],
 "metadata": {
  "kernelspec": {
   "display_name": ".venv",
   "language": "python",
   "name": "python3"
  },
  "language_info": {
   "codemirror_mode": {
    "name": "ipython",
    "version": 3
   },
   "file_extension": ".py",
   "mimetype": "text/x-python",
   "name": "python",
   "nbconvert_exporter": "python",
   "pygments_lexer": "ipython3",
   "version": "3.12.11"
  }
 },
 "nbformat": 4,
 "nbformat_minor": 5
}
